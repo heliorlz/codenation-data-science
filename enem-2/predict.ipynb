{
 "metadata": {
  "language_info": {
   "codemirror_mode": {
    "name": "ipython",
    "version": 3
   },
   "file_extension": ".py",
   "mimetype": "text/x-python",
   "name": "python",
   "nbconvert_exporter": "python",
   "pygments_lexer": "ipython3",
   "version": 3
  },
  "orig_nbformat": 2,
  "kernelspec": {
   "name": "python_defaultSpec_1596225687830",
   "display_name": "Python 3.7.6 64-bit"
  }
 },
 "nbformat": 4,
 "nbformat_minor": 2,
 "cells": [
  {
   "cell_type": "code",
   "execution_count": 17,
   "metadata": {},
   "outputs": [],
   "source": [
    "import numpy as np\n",
    "import pandas as pd\n",
    "import seaborn as sns\n",
    "import statistics as sts\n",
    "\n",
    "from sklearn.preprocessing import OneHotEncoder\n"
   ]
  },
  {
   "cell_type": "code",
   "execution_count": 18,
   "metadata": {},
   "outputs": [
    {
     "output_type": "execute_result",
     "data": {
      "text/plain": "                               NU_INSCRICAO  CO_UF_RESIDENCIA  \\\n0  73ff9fcc02f0a99919906c942c2e1a1042cdcf98                41   \n1  71a95f9f1b91a82c65ad94abbdf9f54e6066f968                21   \n2  b38a03232f43b11c9d0788abaf060f7366053b6d                23   \n3  70b682d9a3636be23f6120fa9d6b164eb3c6002d                15   \n4  715494628a50142ce8cb17191cfe6d0f3cae0934                41   \n\n  SG_UF_RESIDENCIA  NU_IDADE TP_SEXO  TP_COR_RACA  TP_NACIONALIDADE  \\\n0               PR        22       F            3                 1   \n1               MA        26       F            3                 1   \n2               CE        21       M            1                 1   \n3               PA        27       F            3                 1   \n4               PR        18       M            1                 1   \n\n   TP_ST_CONCLUSAO  TP_ANO_CONCLUIU  TP_ESCOLA  ...  NU_NOTA_COMP5  \\\n0                1                5          1  ...           40.0   \n1                1                8          1  ...          100.0   \n2                2                0          2  ...           80.0   \n3                1                8          1  ...            NaN   \n4                2                0          2  ...            0.0   \n\n   NU_NOTA_REDACAO  Q001  Q002  Q006  Q024  Q025  Q026  Q027  Q047  \n0            420.0     B     A     C     A     A     C     C     A  \n1            580.0     E     B     C     B     B     B     F     A  \n2            320.0     E     E     D     B     B     A   NaN     A  \n3              NaN     H     E     G     B     B     A   NaN     A  \n4            320.0     D     H     H     C     B     A   NaN     A  \n\n[5 rows x 47 columns]",
      "text/html": "<div>\n<style scoped>\n    .dataframe tbody tr th:only-of-type {\n        vertical-align: middle;\n    }\n\n    .dataframe tbody tr th {\n        vertical-align: top;\n    }\n\n    .dataframe thead th {\n        text-align: right;\n    }\n</style>\n<table border=\"1\" class=\"dataframe\">\n  <thead>\n    <tr style=\"text-align: right;\">\n      <th></th>\n      <th>NU_INSCRICAO</th>\n      <th>CO_UF_RESIDENCIA</th>\n      <th>SG_UF_RESIDENCIA</th>\n      <th>NU_IDADE</th>\n      <th>TP_SEXO</th>\n      <th>TP_COR_RACA</th>\n      <th>TP_NACIONALIDADE</th>\n      <th>TP_ST_CONCLUSAO</th>\n      <th>TP_ANO_CONCLUIU</th>\n      <th>TP_ESCOLA</th>\n      <th>...</th>\n      <th>NU_NOTA_COMP5</th>\n      <th>NU_NOTA_REDACAO</th>\n      <th>Q001</th>\n      <th>Q002</th>\n      <th>Q006</th>\n      <th>Q024</th>\n      <th>Q025</th>\n      <th>Q026</th>\n      <th>Q027</th>\n      <th>Q047</th>\n    </tr>\n  </thead>\n  <tbody>\n    <tr>\n      <th>0</th>\n      <td>73ff9fcc02f0a99919906c942c2e1a1042cdcf98</td>\n      <td>41</td>\n      <td>PR</td>\n      <td>22</td>\n      <td>F</td>\n      <td>3</td>\n      <td>1</td>\n      <td>1</td>\n      <td>5</td>\n      <td>1</td>\n      <td>...</td>\n      <td>40.0</td>\n      <td>420.0</td>\n      <td>B</td>\n      <td>A</td>\n      <td>C</td>\n      <td>A</td>\n      <td>A</td>\n      <td>C</td>\n      <td>C</td>\n      <td>A</td>\n    </tr>\n    <tr>\n      <th>1</th>\n      <td>71a95f9f1b91a82c65ad94abbdf9f54e6066f968</td>\n      <td>21</td>\n      <td>MA</td>\n      <td>26</td>\n      <td>F</td>\n      <td>3</td>\n      <td>1</td>\n      <td>1</td>\n      <td>8</td>\n      <td>1</td>\n      <td>...</td>\n      <td>100.0</td>\n      <td>580.0</td>\n      <td>E</td>\n      <td>B</td>\n      <td>C</td>\n      <td>B</td>\n      <td>B</td>\n      <td>B</td>\n      <td>F</td>\n      <td>A</td>\n    </tr>\n    <tr>\n      <th>2</th>\n      <td>b38a03232f43b11c9d0788abaf060f7366053b6d</td>\n      <td>23</td>\n      <td>CE</td>\n      <td>21</td>\n      <td>M</td>\n      <td>1</td>\n      <td>1</td>\n      <td>2</td>\n      <td>0</td>\n      <td>2</td>\n      <td>...</td>\n      <td>80.0</td>\n      <td>320.0</td>\n      <td>E</td>\n      <td>E</td>\n      <td>D</td>\n      <td>B</td>\n      <td>B</td>\n      <td>A</td>\n      <td>NaN</td>\n      <td>A</td>\n    </tr>\n    <tr>\n      <th>3</th>\n      <td>70b682d9a3636be23f6120fa9d6b164eb3c6002d</td>\n      <td>15</td>\n      <td>PA</td>\n      <td>27</td>\n      <td>F</td>\n      <td>3</td>\n      <td>1</td>\n      <td>1</td>\n      <td>8</td>\n      <td>1</td>\n      <td>...</td>\n      <td>NaN</td>\n      <td>NaN</td>\n      <td>H</td>\n      <td>E</td>\n      <td>G</td>\n      <td>B</td>\n      <td>B</td>\n      <td>A</td>\n      <td>NaN</td>\n      <td>A</td>\n    </tr>\n    <tr>\n      <th>4</th>\n      <td>715494628a50142ce8cb17191cfe6d0f3cae0934</td>\n      <td>41</td>\n      <td>PR</td>\n      <td>18</td>\n      <td>M</td>\n      <td>1</td>\n      <td>1</td>\n      <td>2</td>\n      <td>0</td>\n      <td>2</td>\n      <td>...</td>\n      <td>0.0</td>\n      <td>320.0</td>\n      <td>D</td>\n      <td>H</td>\n      <td>H</td>\n      <td>C</td>\n      <td>B</td>\n      <td>A</td>\n      <td>NaN</td>\n      <td>A</td>\n    </tr>\n  </tbody>\n</table>\n<p>5 rows × 47 columns</p>\n</div>"
     },
     "metadata": {},
     "execution_count": 18
    }
   ],
   "source": [
    "df = pd.read_csv('test.csv')\n",
    "df.head()"
   ]
  },
  {
   "cell_type": "code",
   "execution_count": 19,
   "metadata": {
    "tags": []
   },
   "outputs": [
    {
     "output_type": "stream",
     "name": "stdout",
     "text": "<class 'pandas.core.frame.DataFrame'>\nRangeIndex: 4576 entries, 0 to 4575\nData columns (total 47 columns):\nNU_INSCRICAO              4576 non-null object\nCO_UF_RESIDENCIA          4576 non-null int64\nSG_UF_RESIDENCIA          4576 non-null object\nNU_IDADE                  4576 non-null int64\nTP_SEXO                   4576 non-null object\nTP_COR_RACA               4576 non-null int64\nTP_NACIONALIDADE          4576 non-null int64\nTP_ST_CONCLUSAO           4576 non-null int64\nTP_ANO_CONCLUIU           4576 non-null int64\nTP_ESCOLA                 4576 non-null int64\nTP_ENSINO                 1480 non-null float64\nIN_TREINEIRO              4576 non-null int64\nTP_DEPENDENCIA_ADM_ESC    1480 non-null float64\nIN_BAIXA_VISAO            4576 non-null int64\nIN_CEGUEIRA               4576 non-null int64\nIN_SURDEZ                 4576 non-null int64\nIN_DISLEXIA               4576 non-null int64\nIN_DISCALCULIA            4576 non-null int64\nIN_SABATISTA              4576 non-null int64\nIN_GESTANTE               4576 non-null int64\nIN_IDOSO                  4576 non-null int64\nTP_PRESENCA_CN            4576 non-null int64\nTP_PRESENCA_CH            4576 non-null int64\nTP_PRESENCA_LC            4576 non-null int64\nCO_PROVA_CN               4576 non-null object\nCO_PROVA_CH               4576 non-null object\nCO_PROVA_LC               4576 non-null object\nCO_PROVA_MT               4576 non-null object\nNU_NOTA_CN                3442 non-null float64\nNU_NOTA_CH                3442 non-null float64\nNU_NOTA_LC                3377 non-null float64\nTP_LINGUA                 4576 non-null int64\nTP_STATUS_REDACAO         3377 non-null float64\nNU_NOTA_COMP1             3377 non-null float64\nNU_NOTA_COMP2             3377 non-null float64\nNU_NOTA_COMP3             3377 non-null float64\nNU_NOTA_COMP4             3377 non-null float64\nNU_NOTA_COMP5             3377 non-null float64\nNU_NOTA_REDACAO           3377 non-null float64\nQ001                      4576 non-null object\nQ002                      4576 non-null object\nQ006                      4576 non-null object\nQ024                      4576 non-null object\nQ025                      4576 non-null object\nQ026                      4576 non-null object\nQ027                      2088 non-null object\nQ047                      4576 non-null object\ndtypes: float64(12), int64(20), object(15)\nmemory usage: 1.6+ MB\n"
    }
   ],
   "source": [
    "df.info()"
   ]
  },
  {
   "cell_type": "code",
   "execution_count": 20,
   "metadata": {},
   "outputs": [],
   "source": [
    "model = pd.read_pickle('model.pkl')"
   ]
  },
  {
   "cell_type": "code",
   "execution_count": 21,
   "metadata": {
    "tags": []
   },
   "outputs": [
    {
     "output_type": "stream",
     "name": "stdout",
     "text": "<class 'pandas.core.frame.DataFrame'>\nRangeIndex: 4576 entries, 0 to 4575\nData columns (total 30 columns):\nCO_UF_RESIDENCIA     4576 non-null int64\nNU_IDADE             4576 non-null int64\nTP_COR_RACA          4576 non-null int64\nTP_NACIONALIDADE     4576 non-null int64\nTP_ST_CONCLUSAO      4576 non-null int64\nTP_ANO_CONCLUIU      4576 non-null int64\nTP_ESCOLA            4576 non-null int64\nIN_TREINEIRO         4576 non-null int64\nIN_BAIXA_VISAO       4576 non-null int64\nIN_CEGUEIRA          4576 non-null int64\nIN_SURDEZ            4576 non-null int64\nIN_DISLEXIA          4576 non-null int64\nIN_DISCALCULIA       4576 non-null int64\nIN_SABATISTA         4576 non-null int64\nIN_GESTANTE          4576 non-null int64\nIN_IDOSO             4576 non-null int64\nTP_PRESENCA_CN       4576 non-null int64\nTP_PRESENCA_CH       4576 non-null int64\nTP_PRESENCA_LC       4576 non-null int64\nNU_NOTA_CN           3442 non-null float64\nNU_NOTA_CH           3442 non-null float64\nNU_NOTA_LC           3377 non-null float64\nTP_LINGUA            4576 non-null int64\nTP_STATUS_REDACAO    3377 non-null float64\nNU_NOTA_COMP1        3377 non-null float64\nNU_NOTA_COMP2        3377 non-null float64\nNU_NOTA_COMP3        3377 non-null float64\nNU_NOTA_COMP4        3377 non-null float64\nNU_NOTA_COMP5        3377 non-null float64\nNU_NOTA_REDACAO      3377 non-null float64\ndtypes: float64(10), int64(20)\nmemory usage: 1.0 MB\n"
    }
   ],
   "source": [
    "df[model['num_features']].info()"
   ]
  },
  {
   "cell_type": "code",
   "execution_count": 22,
   "metadata": {},
   "outputs": [
    {
     "output_type": "execute_result",
     "data": {
      "text/plain": "CO_UF_RESIDENCIA        0\nNU_IDADE                0\nTP_COR_RACA             0\nTP_NACIONALIDADE        0\nTP_ST_CONCLUSAO         0\nTP_ANO_CONCLUIU         0\nTP_ESCOLA               0\nIN_TREINEIRO            0\nIN_BAIXA_VISAO          0\nIN_CEGUEIRA             0\nIN_SURDEZ               0\nIN_DISLEXIA             0\nIN_DISCALCULIA          0\nIN_SABATISTA            0\nIN_GESTANTE             0\nIN_IDOSO                0\nTP_PRESENCA_CN          0\nTP_PRESENCA_CH          0\nTP_PRESENCA_LC          0\nNU_NOTA_CN           1134\nNU_NOTA_CH           1134\nNU_NOTA_LC           1199\nTP_LINGUA               0\nTP_STATUS_REDACAO    1199\nNU_NOTA_COMP1        1199\nNU_NOTA_COMP2        1199\nNU_NOTA_COMP3        1199\nNU_NOTA_COMP4        1199\nNU_NOTA_COMP5        1199\nNU_NOTA_REDACAO      1199\ndtype: int64"
     },
     "metadata": {},
     "execution_count": 22
    }
   ],
   "source": [
    "df[model['num_features']].isna().sum()"
   ]
  },
  {
   "cell_type": "code",
   "execution_count": 23,
   "metadata": {},
   "outputs": [],
   "source": [
    "df[model['num_features']] = df[model['num_features']].fillna(-1)"
   ]
  },
  {
   "cell_type": "code",
   "execution_count": 24,
   "metadata": {
    "tags": []
   },
   "outputs": [
    {
     "output_type": "stream",
     "name": "stdout",
     "text": "<class 'pandas.core.frame.DataFrame'>\nRangeIndex: 4576 entries, 0 to 4575\nData columns (total 13 columns):\nSG_UF_RESIDENCIA    4576 non-null object\nTP_SEXO             4576 non-null object\nCO_PROVA_CN         4576 non-null object\nCO_PROVA_CH         4576 non-null object\nCO_PROVA_LC         4576 non-null object\nCO_PROVA_MT         4576 non-null object\nQ001                4576 non-null object\nQ002                4576 non-null object\nQ006                4576 non-null object\nQ024                4576 non-null object\nQ025                4576 non-null object\nQ026                4576 non-null object\nQ047                4576 non-null object\ndtypes: object(13)\nmemory usage: 464.8+ KB\n"
    }
   ],
   "source": [
    "df[model['cat_features']].info()"
   ]
  },
  {
   "cell_type": "code",
   "execution_count": 25,
   "metadata": {},
   "outputs": [
    {
     "output_type": "execute_result",
     "data": {
      "text/plain": "SG_UF_RESIDENCIA    0\nTP_SEXO             0\nCO_PROVA_CN         0\nCO_PROVA_CH         0\nCO_PROVA_LC         0\nCO_PROVA_MT         0\nQ001                0\nQ002                0\nQ006                0\nQ024                0\nQ025                0\nQ026                0\nQ047                0\ndtype: int64"
     },
     "metadata": {},
     "execution_count": 25
    }
   ],
   "source": [
    "df[model['cat_features']].isna().sum()"
   ]
  },
  {
   "cell_type": "code",
   "execution_count": 26,
   "metadata": {},
   "outputs": [],
   "source": [
    "df_ohe = pd.DataFrame(model['onehot'].transform(df[model['cat_features']]), columns=model['onehot'].get_feature_names(model['cat_features']))"
   ]
  },
  {
   "cell_type": "code",
   "execution_count": 27,
   "metadata": {},
   "outputs": [],
   "source": [
    "df_full = pd.concat([df[model['num_features']], df_ohe], axis=1,ignore_index=True)"
   ]
  },
  {
   "cell_type": "code",
   "execution_count": 28,
   "metadata": {
    "tags": []
   },
   "outputs": [
    {
     "output_type": "stream",
     "name": "stdout",
     "text": "0    1    2    3    4    5    6    7    8    9    ...  133  134  135  \\\n0      41   22    3    1    1    5    1    0    0    0  ...  1.0  0.0  0.0   \n1      21   26    3    1    1    8    1    0    0    0  ...  0.0  1.0  0.0   \n2      23   21    1    1    2    0    2    0    0    0  ...  0.0  1.0  1.0   \n3      15   27    3    1    1    8    1    0    0    0  ...  0.0  1.0  1.0   \n4      41   18    1    1    2    0    2    0    0    0  ...  0.0  1.0  1.0   \n5      43   18    3    1    1    1    1    0    0    0  ...  0.0  1.0  1.0   \n6      35   17    1    1    2    0    3    0    0    0  ...  0.0  1.0  1.0   \n7      23   17    3    2    2    0    2    0    0    0  ...  1.0  0.0  1.0   \n8      51   18    3    1    2    0    2    0    0    0  ...  1.0  0.0  0.0   \n9      15   17    3    2    2    0    2    0    0    0  ...  1.0  0.0  1.0   \n10     24   20    3    1    1    2    1    0    0    0  ...  1.0  0.0  1.0   \n11     24   31    1    1    1   10    1    0    0    0  ...  1.0  0.0  0.0   \n12     26   22    3    2    1    5    1    0    0    0  ...  0.0  1.0  0.0   \n13     25   18    2    1    1    1    1    0    0    0  ...  0.0  1.0  0.0   \n14     43   18    1    4    1    2    1    0    0    0  ...  0.0  1.0  1.0   \n15     33   18    1    1    1    1    1    0    0    0  ...  1.0  0.0  1.0   \n16     31   34    1    1    1   10    1    0    0    0  ...  0.0  1.0  0.0   \n17     35   30    1    1    1   10    1    0    0    0  ...  0.0  1.0  0.0   \n18     35   17    1    1    3    0    1    1    0    0  ...  0.0  1.0  1.0   \n19     21   21    2    1    1    2    1    0    0    0  ...  1.0  0.0  0.0   \n20     35   17    1    1    2    0    2    0    0    0  ...  1.0  0.0  1.0   \n21     23   25    1    1    1    8    1    0    0    0  ...  1.0  0.0  1.0   \n22     29   37    4    1    1    6    1    0    0    0  ...  1.0  0.0  0.0   \n23     11   21    3    1    1    4    1    0    0    0  ...  0.0  1.0  0.0   \n24     26   18    3    1    1    1    1    0    0    0  ...  0.0  1.0  1.0   \n25     41   20    1    2    1    2    1    0    0    0  ...  0.0  1.0  0.0   \n26     51   19    1    1    1    3    1    0    0    0  ...  1.0  0.0  1.0   \n27     13   18    3    1    2    0    2    0    0    0  ...  0.0  1.0  1.0   \n28     52   18    2    1    2    0    2    0    0    0  ...  0.0  1.0  1.0   \n29     35   18    3    1    1    1    1    0    0    0  ...  0.0  1.0  0.0   \n...   ...  ...  ...  ...  ...  ...  ...  ...  ...  ...  ...  ...  ...  ...   \n4546   35   45    3    1    1   10    1    0    0    0  ...  0.0  1.0  0.0   \n4547   26   25    3    1    1    7    1    0    0    0  ...  0.0  1.0  0.0   \n4548   50   16    3    1    3    0    1    1    0    0  ...  0.0  1.0  1.0   \n4549   16   39    1    1    1   10    1    0    0    0  ...  0.0  1.0  0.0   \n4550   31   18    1    1    2    0    2    0    0    0  ...  0.0  1.0  1.0   \n4551   31   16    3    1    3    0    1    1    0    0  ...  0.0  1.0  1.0   \n4552   25   17    1    1    2    0    2    0    0    0  ...  0.0  1.0  1.0   \n4553   32   16    3    1    3    0    1    1    0    0  ...  0.0  1.0  1.0   \n4554   35   17    1    1    2    0    2    0    0    0  ...  0.0  1.0  1.0   \n4555   29   32    2    1    1    9    1    0    0    0  ...  1.0  0.0  0.0   \n4556   22   29    3    1    1    9    1    0    0    0  ...  1.0  0.0  1.0   \n4557   33   18    2    1    1    1    1    0    0    0  ...  1.0  0.0  1.0   \n4558   23   16    3    1    2    0    2    0    0    0  ...  1.0  0.0  1.0   \n4559   31   19    1    1    1    1    1    0    0    0  ...  0.0  1.0  0.0   \n4560   23   16    3    1    3    0    1    1    0    0  ...  1.0  0.0  1.0   \n4561   35   18    3    1    2    0    2    0    0    0  ...  0.0  1.0  1.0   \n4562   35   17    3    1    2    0    2    0    0    0  ...  0.0  1.0  1.0   \n4563   24   47    3    1    2    0    2    0    0    0  ...  0.0  1.0  0.0   \n4564   24   19    3    1    1    2    1    0    0    0  ...  0.0  1.0  0.0   \n4565   52   16    3    1    2    0    2    0    0    0  ...  1.0  0.0  1.0   \n4566   41   17    1    1    2    0    2    0    0    0  ...  0.0  1.0  1.0   \n4567   25   16    3    1    2    0    2    0    0    0  ...  0.0  1.0  1.0   \n4568   15   21    3    1    2    0    2    0    0    0  ...  1.0  0.0  0.0   \n4569   31   17    1    1    2    0    2    0    0    0  ...  0.0  1.0  1.0   \n4570   26   18    3    1    2    0    2    0    0    0  ...  1.0  0.0  1.0   \n4571   41   17    1    1    2    0    2    0    0    0  ...  0.0  1.0  1.0   \n4572   35   17    2    1    2    0    2    0    0    0  ...  1.0  0.0  1.0   \n4573   35   19    1    1    1    2    1    0    0    0  ...  0.0  1.0  1.0   \n4574   52   17    2    2    3    0    1    1    0    0  ...  1.0  0.0  1.0   \n4575   33   30    1    1    1   10    1    0    0    0  ...  0.0  1.0  0.0   \n\n      136  137  138  139  140  141  142  \n0     0.0  1.0  1.0  0.0  0.0  0.0  0.0  \n1     1.0  0.0  1.0  0.0  0.0  0.0  0.0  \n2     0.0  0.0  1.0  0.0  0.0  0.0  0.0  \n3     0.0  0.0  1.0  0.0  0.0  0.0  0.0  \n4     0.0  0.0  1.0  0.0  0.0  0.0  0.0  \n5     0.0  0.0  1.0  0.0  0.0  0.0  0.0  \n6     0.0  0.0  0.0  0.0  0.0  1.0  0.0  \n7     0.0  0.0  1.0  0.0  0.0  0.0  0.0  \n8     1.0  0.0  1.0  0.0  0.0  0.0  0.0  \n9     0.0  0.0  1.0  0.0  0.0  0.0  0.0  \n10    0.0  0.0  1.0  0.0  0.0  0.0  0.0  \n11    1.0  0.0  1.0  0.0  0.0  0.0  0.0  \n12    1.0  0.0  1.0  0.0  0.0  0.0  0.0  \n13    1.0  0.0  1.0  0.0  0.0  0.0  0.0  \n14    0.0  0.0  0.0  0.0  0.0  1.0  0.0  \n15    0.0  0.0  1.0  0.0  0.0  0.0  0.0  \n16    0.0  1.0  1.0  0.0  0.0  0.0  0.0  \n17    1.0  0.0  1.0  0.0  0.0  0.0  0.0  \n18    0.0  0.0  1.0  0.0  0.0  0.0  0.0  \n19    1.0  0.0  1.0  0.0  0.0  0.0  0.0  \n20    0.0  0.0  1.0  0.0  0.0  0.0  0.0  \n21    0.0  0.0  0.0  0.0  1.0  0.0  0.0  \n22    0.0  1.0  0.0  1.0  0.0  0.0  0.0  \n23    0.0  1.0  1.0  0.0  0.0  0.0  0.0  \n24    0.0  0.0  0.0  0.0  0.0  1.0  0.0  \n25    0.0  1.0  1.0  0.0  0.0  0.0  0.0  \n26    0.0  0.0  0.0  0.0  0.0  1.0  0.0  \n27    0.0  0.0  1.0  0.0  0.0  0.0  0.0  \n28    0.0  0.0  1.0  0.0  0.0  0.0  0.0  \n29    1.0  0.0  1.0  0.0  0.0  0.0  0.0  \n...   ...  ...  ...  ...  ...  ...  ...  \n4546  0.0  1.0  1.0  0.0  0.0  0.0  0.0  \n4547  1.0  0.0  1.0  0.0  0.0  0.0  0.0  \n4548  0.0  0.0  1.0  0.0  0.0  0.0  0.0  \n4549  1.0  0.0  1.0  0.0  0.0  0.0  0.0  \n4550  0.0  0.0  1.0  0.0  0.0  0.0  0.0  \n4551  0.0  0.0  1.0  0.0  0.0  0.0  0.0  \n4552  0.0  0.0  1.0  0.0  0.0  0.0  0.0  \n4553  0.0  0.0  1.0  0.0  0.0  0.0  0.0  \n4554  0.0  0.0  1.0  0.0  0.0  0.0  0.0  \n4555  1.0  0.0  1.0  0.0  0.0  0.0  0.0  \n4556  0.0  0.0  1.0  0.0  0.0  0.0  0.0  \n4557  0.0  0.0  1.0  0.0  0.0  0.0  0.0  \n4558  0.0  0.0  1.0  0.0  0.0  0.0  0.0  \n4559  1.0  0.0  1.0  0.0  0.0  0.0  0.0  \n4560  0.0  0.0  1.0  0.0  0.0  0.0  0.0  \n4561  0.0  0.0  1.0  0.0  0.0  0.0  0.0  \n4562  0.0  0.0  1.0  0.0  0.0  0.0  0.0  \n4563  1.0  0.0  1.0  0.0  0.0  0.0  0.0  \n4564  1.0  0.0  1.0  0.0  0.0  0.0  0.0  \n4565  0.0  0.0  1.0  0.0  0.0  0.0  0.0  \n4566  0.0  0.0  1.0  0.0  0.0  0.0  0.0  \n4567  0.0  0.0  1.0  0.0  0.0  0.0  0.0  \n4568  1.0  0.0  1.0  0.0  0.0  0.0  0.0  \n4569  0.0  0.0  1.0  0.0  0.0  0.0  0.0  \n4570  0.0  0.0  1.0  0.0  0.0  0.0  0.0  \n4571  0.0  0.0  1.0  0.0  0.0  0.0  0.0  \n4572  0.0  0.0  1.0  0.0  0.0  0.0  0.0  \n4573  0.0  0.0  0.0  0.0  0.0  1.0  0.0  \n4574  0.0  0.0  1.0  0.0  0.0  0.0  0.0  \n4575  1.0  0.0  1.0  0.0  0.0  0.0  0.0  \n\n[4576 rows x 143 columns]\n0      0\n1      0\n2      0\n3      0\n4      0\n5      0\n6      0\n7      0\n8      0\n9      0\n10     0\n11     0\n12     0\n13     0\n14     0\n15     0\n16     0\n17     0\n18     0\n19     0\n20     0\n21     0\n22     0\n23     0\n24     0\n25     0\n26     0\n27     0\n28     0\n29     0\n      ..\n113    0\n114    0\n115    0\n116    0\n117    0\n118    0\n119    0\n120    0\n121    0\n122    0\n123    0\n124    0\n125    0\n126    0\n127    0\n128    0\n129    0\n130    0\n131    0\n132    0\n133    0\n134    0\n135    0\n136    0\n137    0\n138    0\n139    0\n140    0\n141    0\n142    0\nLength: 143, dtype: int64\n"
    }
   ],
   "source": [
    "print(df_full)\n",
    "print(df_full.isna().sum())"
   ]
  },
  {
   "cell_type": "code",
   "execution_count": 29,
   "metadata": {},
   "outputs": [
    {
     "output_type": "execute_result",
     "data": {
      "text/plain": "(4576, 143)"
     },
     "metadata": {},
     "execution_count": 29
    }
   ],
   "source": [
    "df_full.shape"
   ]
  },
  {
   "cell_type": "code",
   "execution_count": 30,
   "metadata": {
    "tags": []
   },
   "outputs": [
    {
     "output_type": "stream",
     "name": "stderr",
     "text": "[Parallel(n_jobs=1)]: Using backend SequentialBackend with 1 concurrent workers.\n[Parallel(n_jobs=1)]: Done   1 out of   1 | elapsed:    0.0s remaining:    0.0s\n[Parallel(n_jobs=1)]: Done   2 out of   2 | elapsed:    0.0s remaining:    0.0s\n[Parallel(n_jobs=1)]: Done 100 out of 100 | elapsed:    0.0s finished\n"
    }
   ],
   "source": [
    "predict = model['model'].predict( df_full[model['features']])"
   ]
  },
  {
   "cell_type": "code",
   "execution_count": 31,
   "metadata": {},
   "outputs": [],
   "source": [
    "df_new = df[['NU_INSCRICAO']].copy()\n",
    "df_new['NU_NOTA_MT'] = predict"
   ]
  },
  {
   "cell_type": "code",
   "execution_count": 32,
   "metadata": {},
   "outputs": [],
   "source": [
    "df_new.to_csv('answer.csv', index=False)"
   ]
  },
  {
   "cell_type": "code",
   "execution_count": null,
   "metadata": {},
   "outputs": [],
   "source": []
  }
 ]
}
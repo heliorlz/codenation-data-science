{
 "metadata": {
  "language_info": {
   "codemirror_mode": {
    "name": "ipython",
    "version": 3
   },
   "file_extension": ".py",
   "mimetype": "text/x-python",
   "name": "python",
   "nbconvert_exporter": "python",
   "pygments_lexer": "ipython3",
   "version": 3
  },
  "orig_nbformat": 2,
  "kernelspec": {
   "name": "python_defaultSpec_1596225688019",
   "display_name": "Python 3.7.6 64-bit"
  }
 },
 "nbformat": 4,
 "nbformat_minor": 2,
 "cells": [
  {
   "cell_type": "code",
   "execution_count": 1,
   "metadata": {},
   "outputs": [],
   "source": [
    "import numpy as np\n",
    "import pandas as pd\n",
    "import seaborn as sns\n",
    "import statistics as sts\n",
    "\n",
    "from sklearn.preprocessing import OneHotEncoder\n",
    "from sklearn.ensemble import RandomForestRegressor\n",
    "\n",
    "import tensorflow\n",
    "\n",
    "from keras.models import Sequential\n",
    "from keras.layers import Dense, Activation, Dropout"
   ]
  },
  {
   "cell_type": "code",
   "execution_count": 2,
   "metadata": {},
   "outputs": [
    {
     "output_type": "execute_result",
     "data": {
      "text/plain": "   Unnamed: 0                              NU_INSCRICAO  NU_ANO  \\\n0           1  ed50e8aaa58e7a806c337585efee9ca41f1eb1ad    2016   \n1           2  2c3acac4b33ec2b195d77e7c04a2d75727fad723    2016   \n2           3  f4545f8ccb9ff5c8aad7d32951b3f251a26e6568    2016   \n3           4  3d6ec248fef899c414e77f82d5c6d2bffbeaf7fe    2016   \n4           5  bf896ac8d3ecadd6dba1dfbf50110afcbf5d3268    2016   \n\n   CO_MUNICIPIO_RESIDENCIA NO_MUNICIPIO_RESIDENCIA  CO_UF_RESIDENCIA  \\\n0                  4314902            Porto Alegre                43   \n1                  2304707                  Granja                23   \n2                  2304400               Fortaleza                23   \n3                  3304557          Rio de Janeiro                33   \n4                  1302603                  Manaus                13   \n\n  SG_UF_RESIDENCIA  NU_IDADE TP_SEXO  TP_ESTADO_CIVIL  ...  Q041  Q042  Q043  \\\n0               RS        24       M              0.0  ...   5.0     A     A   \n1               CE        17       F              0.0  ...   NaN     A     A   \n2               CE        21       F              0.0  ...   NaN     A     A   \n3               RJ        25       F              0.0  ...   5.0     C     A   \n4               AM        28       M              0.0  ...   NaN     A     A   \n\n  Q044  Q045 Q046  Q047  Q048  Q049  Q050  \n0    A     A    A     A     A     B     D  \n1    C     A    B     A     A     C     A  \n2    A     A    C     A     A     B     A  \n3    A     A    A     D     A     A     A  \n4    A     A    A     A     A     A     A  \n\n[5 rows x 167 columns]",
      "text/html": "<div>\n<style scoped>\n    .dataframe tbody tr th:only-of-type {\n        vertical-align: middle;\n    }\n\n    .dataframe tbody tr th {\n        vertical-align: top;\n    }\n\n    .dataframe thead th {\n        text-align: right;\n    }\n</style>\n<table border=\"1\" class=\"dataframe\">\n  <thead>\n    <tr style=\"text-align: right;\">\n      <th></th>\n      <th>Unnamed: 0</th>\n      <th>NU_INSCRICAO</th>\n      <th>NU_ANO</th>\n      <th>CO_MUNICIPIO_RESIDENCIA</th>\n      <th>NO_MUNICIPIO_RESIDENCIA</th>\n      <th>CO_UF_RESIDENCIA</th>\n      <th>SG_UF_RESIDENCIA</th>\n      <th>NU_IDADE</th>\n      <th>TP_SEXO</th>\n      <th>TP_ESTADO_CIVIL</th>\n      <th>...</th>\n      <th>Q041</th>\n      <th>Q042</th>\n      <th>Q043</th>\n      <th>Q044</th>\n      <th>Q045</th>\n      <th>Q046</th>\n      <th>Q047</th>\n      <th>Q048</th>\n      <th>Q049</th>\n      <th>Q050</th>\n    </tr>\n  </thead>\n  <tbody>\n    <tr>\n      <th>0</th>\n      <td>1</td>\n      <td>ed50e8aaa58e7a806c337585efee9ca41f1eb1ad</td>\n      <td>2016</td>\n      <td>4314902</td>\n      <td>Porto Alegre</td>\n      <td>43</td>\n      <td>RS</td>\n      <td>24</td>\n      <td>M</td>\n      <td>0.0</td>\n      <td>...</td>\n      <td>5.0</td>\n      <td>A</td>\n      <td>A</td>\n      <td>A</td>\n      <td>A</td>\n      <td>A</td>\n      <td>A</td>\n      <td>A</td>\n      <td>B</td>\n      <td>D</td>\n    </tr>\n    <tr>\n      <th>1</th>\n      <td>2</td>\n      <td>2c3acac4b33ec2b195d77e7c04a2d75727fad723</td>\n      <td>2016</td>\n      <td>2304707</td>\n      <td>Granja</td>\n      <td>23</td>\n      <td>CE</td>\n      <td>17</td>\n      <td>F</td>\n      <td>0.0</td>\n      <td>...</td>\n      <td>NaN</td>\n      <td>A</td>\n      <td>A</td>\n      <td>C</td>\n      <td>A</td>\n      <td>B</td>\n      <td>A</td>\n      <td>A</td>\n      <td>C</td>\n      <td>A</td>\n    </tr>\n    <tr>\n      <th>2</th>\n      <td>3</td>\n      <td>f4545f8ccb9ff5c8aad7d32951b3f251a26e6568</td>\n      <td>2016</td>\n      <td>2304400</td>\n      <td>Fortaleza</td>\n      <td>23</td>\n      <td>CE</td>\n      <td>21</td>\n      <td>F</td>\n      <td>0.0</td>\n      <td>...</td>\n      <td>NaN</td>\n      <td>A</td>\n      <td>A</td>\n      <td>A</td>\n      <td>A</td>\n      <td>C</td>\n      <td>A</td>\n      <td>A</td>\n      <td>B</td>\n      <td>A</td>\n    </tr>\n    <tr>\n      <th>3</th>\n      <td>4</td>\n      <td>3d6ec248fef899c414e77f82d5c6d2bffbeaf7fe</td>\n      <td>2016</td>\n      <td>3304557</td>\n      <td>Rio de Janeiro</td>\n      <td>33</td>\n      <td>RJ</td>\n      <td>25</td>\n      <td>F</td>\n      <td>0.0</td>\n      <td>...</td>\n      <td>5.0</td>\n      <td>C</td>\n      <td>A</td>\n      <td>A</td>\n      <td>A</td>\n      <td>A</td>\n      <td>D</td>\n      <td>A</td>\n      <td>A</td>\n      <td>A</td>\n    </tr>\n    <tr>\n      <th>4</th>\n      <td>5</td>\n      <td>bf896ac8d3ecadd6dba1dfbf50110afcbf5d3268</td>\n      <td>2016</td>\n      <td>1302603</td>\n      <td>Manaus</td>\n      <td>13</td>\n      <td>AM</td>\n      <td>28</td>\n      <td>M</td>\n      <td>0.0</td>\n      <td>...</td>\n      <td>NaN</td>\n      <td>A</td>\n      <td>A</td>\n      <td>A</td>\n      <td>A</td>\n      <td>A</td>\n      <td>A</td>\n      <td>A</td>\n      <td>A</td>\n      <td>A</td>\n    </tr>\n  </tbody>\n</table>\n<p>5 rows × 167 columns</p>\n</div>"
     },
     "metadata": {},
     "execution_count": 2
    }
   ],
   "source": [
    "df = pd.read_csv('train.csv')\n",
    "df.head()"
   ]
  },
  {
   "cell_type": "code",
   "execution_count": 3,
   "metadata": {},
   "outputs": [
    {
     "output_type": "execute_result",
     "data": {
      "text/plain": "['NU_INSCRICAO',\n 'CO_UF_RESIDENCIA',\n 'SG_UF_RESIDENCIA',\n 'NU_IDADE',\n 'TP_SEXO',\n 'TP_COR_RACA',\n 'TP_NACIONALIDADE',\n 'TP_ST_CONCLUSAO',\n 'TP_ANO_CONCLUIU',\n 'TP_ESCOLA',\n 'TP_ENSINO',\n 'IN_TREINEIRO',\n 'TP_DEPENDENCIA_ADM_ESC',\n 'IN_BAIXA_VISAO',\n 'IN_CEGUEIRA',\n 'IN_SURDEZ',\n 'IN_DISLEXIA',\n 'IN_DISCALCULIA',\n 'IN_SABATISTA',\n 'IN_GESTANTE',\n 'IN_IDOSO',\n 'TP_PRESENCA_CN',\n 'TP_PRESENCA_CH',\n 'TP_PRESENCA_LC',\n 'CO_PROVA_CN',\n 'CO_PROVA_CH',\n 'CO_PROVA_LC',\n 'CO_PROVA_MT',\n 'NU_NOTA_CN',\n 'NU_NOTA_CH',\n 'NU_NOTA_LC',\n 'NU_NOTA_MT',\n 'TP_LINGUA',\n 'TP_STATUS_REDACAO',\n 'NU_NOTA_COMP1',\n 'NU_NOTA_COMP2',\n 'NU_NOTA_COMP3',\n 'NU_NOTA_COMP4',\n 'NU_NOTA_COMP5',\n 'NU_NOTA_REDACAO',\n 'Q001',\n 'Q002',\n 'Q006',\n 'Q024',\n 'Q025',\n 'Q026',\n 'Q027',\n 'Q047']"
     },
     "metadata": {},
     "execution_count": 3
    }
   ],
   "source": [
    "features = ['NU_INSCRICAO', 'CO_UF_RESIDENCIA', 'SG_UF_RESIDENCIA', 'NU_IDADE',\n",
    "       'TP_SEXO', 'TP_COR_RACA', 'TP_NACIONALIDADE', 'TP_ST_CONCLUSAO',\n",
    "       'TP_ANO_CONCLUIU', 'TP_ESCOLA', 'TP_ENSINO', 'IN_TREINEIRO',\n",
    "       'TP_DEPENDENCIA_ADM_ESC', 'IN_BAIXA_VISAO', 'IN_CEGUEIRA', 'IN_SURDEZ',\n",
    "       'IN_DISLEXIA', 'IN_DISCALCULIA', 'IN_SABATISTA', 'IN_GESTANTE',\n",
    "       'IN_IDOSO', 'TP_PRESENCA_CN', 'TP_PRESENCA_CH', 'TP_PRESENCA_LC',\n",
    "       'CO_PROVA_CN', 'CO_PROVA_CH', 'CO_PROVA_LC', 'CO_PROVA_MT',\n",
    "       'NU_NOTA_CN', 'NU_NOTA_CH', 'NU_NOTA_LC', 'NU_NOTA_MT','TP_LINGUA',\n",
    "       'TP_STATUS_REDACAO', 'NU_NOTA_COMP1', 'NU_NOTA_COMP2', 'NU_NOTA_COMP3',\n",
    "       'NU_NOTA_COMP4', 'NU_NOTA_COMP5', 'NU_NOTA_REDACAO', 'Q001', 'Q002',\n",
    "       'Q006', 'Q024', 'Q025', 'Q026', 'Q027', 'Q047']\n",
    "\n",
    "features"
   ]
  },
  {
   "cell_type": "code",
   "execution_count": 4,
   "metadata": {},
   "outputs": [],
   "source": [
    "target = 'NU_NOTA_MT'"
   ]
  },
  {
   "cell_type": "code",
   "execution_count": 5,
   "metadata": {},
   "outputs": [
    {
     "output_type": "execute_result",
     "data": {
      "text/plain": "                               NU_INSCRICAO  CO_UF_RESIDENCIA  \\\n0  ed50e8aaa58e7a806c337585efee9ca41f1eb1ad                43   \n1  2c3acac4b33ec2b195d77e7c04a2d75727fad723                23   \n2  f4545f8ccb9ff5c8aad7d32951b3f251a26e6568                23   \n3  3d6ec248fef899c414e77f82d5c6d2bffbeaf7fe                33   \n4  bf896ac8d3ecadd6dba1dfbf50110afcbf5d3268                13   \n\n  SG_UF_RESIDENCIA  NU_IDADE TP_SEXO  TP_COR_RACA  TP_NACIONALIDADE  \\\n0               RS        24       M            1                 1   \n1               CE        17       F            3                 1   \n2               CE        21       F            3                 1   \n3               RJ        25       F            0                 1   \n4               AM        28       M            2                 1   \n\n   TP_ST_CONCLUSAO  TP_ANO_CONCLUIU  TP_ESCOLA  ...  NU_NOTA_COMP5  \\\n0                1                4          1  ...           80.0   \n1                2                0          2  ...           80.0   \n2                3                0          1  ...            NaN   \n3                1                9          1  ...            NaN   \n4                1                4          1  ...            NaN   \n\n   NU_NOTA_REDACAO  Q001  Q002  Q006  Q024  Q025  Q026  Q027  Q047  \n0            520.0     D     D     C     A     A     C     H     A  \n1            580.0     A     A     B     A     A     A   NaN     A  \n2              NaN     D     D     C     A     A     A   NaN     A  \n3              NaN     H     E     E     C     B     C     F     D  \n4              NaN     E     D     C     A     A     B     F     A  \n\n[5 rows x 48 columns]",
      "text/html": "<div>\n<style scoped>\n    .dataframe tbody tr th:only-of-type {\n        vertical-align: middle;\n    }\n\n    .dataframe tbody tr th {\n        vertical-align: top;\n    }\n\n    .dataframe thead th {\n        text-align: right;\n    }\n</style>\n<table border=\"1\" class=\"dataframe\">\n  <thead>\n    <tr style=\"text-align: right;\">\n      <th></th>\n      <th>NU_INSCRICAO</th>\n      <th>CO_UF_RESIDENCIA</th>\n      <th>SG_UF_RESIDENCIA</th>\n      <th>NU_IDADE</th>\n      <th>TP_SEXO</th>\n      <th>TP_COR_RACA</th>\n      <th>TP_NACIONALIDADE</th>\n      <th>TP_ST_CONCLUSAO</th>\n      <th>TP_ANO_CONCLUIU</th>\n      <th>TP_ESCOLA</th>\n      <th>...</th>\n      <th>NU_NOTA_COMP5</th>\n      <th>NU_NOTA_REDACAO</th>\n      <th>Q001</th>\n      <th>Q002</th>\n      <th>Q006</th>\n      <th>Q024</th>\n      <th>Q025</th>\n      <th>Q026</th>\n      <th>Q027</th>\n      <th>Q047</th>\n    </tr>\n  </thead>\n  <tbody>\n    <tr>\n      <th>0</th>\n      <td>ed50e8aaa58e7a806c337585efee9ca41f1eb1ad</td>\n      <td>43</td>\n      <td>RS</td>\n      <td>24</td>\n      <td>M</td>\n      <td>1</td>\n      <td>1</td>\n      <td>1</td>\n      <td>4</td>\n      <td>1</td>\n      <td>...</td>\n      <td>80.0</td>\n      <td>520.0</td>\n      <td>D</td>\n      <td>D</td>\n      <td>C</td>\n      <td>A</td>\n      <td>A</td>\n      <td>C</td>\n      <td>H</td>\n      <td>A</td>\n    </tr>\n    <tr>\n      <th>1</th>\n      <td>2c3acac4b33ec2b195d77e7c04a2d75727fad723</td>\n      <td>23</td>\n      <td>CE</td>\n      <td>17</td>\n      <td>F</td>\n      <td>3</td>\n      <td>1</td>\n      <td>2</td>\n      <td>0</td>\n      <td>2</td>\n      <td>...</td>\n      <td>80.0</td>\n      <td>580.0</td>\n      <td>A</td>\n      <td>A</td>\n      <td>B</td>\n      <td>A</td>\n      <td>A</td>\n      <td>A</td>\n      <td>NaN</td>\n      <td>A</td>\n    </tr>\n    <tr>\n      <th>2</th>\n      <td>f4545f8ccb9ff5c8aad7d32951b3f251a26e6568</td>\n      <td>23</td>\n      <td>CE</td>\n      <td>21</td>\n      <td>F</td>\n      <td>3</td>\n      <td>1</td>\n      <td>3</td>\n      <td>0</td>\n      <td>1</td>\n      <td>...</td>\n      <td>NaN</td>\n      <td>NaN</td>\n      <td>D</td>\n      <td>D</td>\n      <td>C</td>\n      <td>A</td>\n      <td>A</td>\n      <td>A</td>\n      <td>NaN</td>\n      <td>A</td>\n    </tr>\n    <tr>\n      <th>3</th>\n      <td>3d6ec248fef899c414e77f82d5c6d2bffbeaf7fe</td>\n      <td>33</td>\n      <td>RJ</td>\n      <td>25</td>\n      <td>F</td>\n      <td>0</td>\n      <td>1</td>\n      <td>1</td>\n      <td>9</td>\n      <td>1</td>\n      <td>...</td>\n      <td>NaN</td>\n      <td>NaN</td>\n      <td>H</td>\n      <td>E</td>\n      <td>E</td>\n      <td>C</td>\n      <td>B</td>\n      <td>C</td>\n      <td>F</td>\n      <td>D</td>\n    </tr>\n    <tr>\n      <th>4</th>\n      <td>bf896ac8d3ecadd6dba1dfbf50110afcbf5d3268</td>\n      <td>13</td>\n      <td>AM</td>\n      <td>28</td>\n      <td>M</td>\n      <td>2</td>\n      <td>1</td>\n      <td>1</td>\n      <td>4</td>\n      <td>1</td>\n      <td>...</td>\n      <td>NaN</td>\n      <td>NaN</td>\n      <td>E</td>\n      <td>D</td>\n      <td>C</td>\n      <td>A</td>\n      <td>A</td>\n      <td>B</td>\n      <td>F</td>\n      <td>A</td>\n    </tr>\n  </tbody>\n</table>\n<p>5 rows × 48 columns</p>\n</div>"
     },
     "metadata": {},
     "execution_count": 5
    }
   ],
   "source": [
    "df = df[features]\n",
    "df.head()"
   ]
  },
  {
   "cell_type": "code",
   "execution_count": 6,
   "metadata": {},
   "outputs": [],
   "source": [
    "df = df.dropna(how='all', subset=[target])"
   ]
  },
  {
   "cell_type": "code",
   "execution_count": 7,
   "metadata": {},
   "outputs": [
    {
     "output_type": "execute_result",
     "data": {
      "text/plain": "(10133, 48)"
     },
     "metadata": {},
     "execution_count": 7
    }
   ],
   "source": [
    "df.shape"
   ]
  },
  {
   "cell_type": "code",
   "execution_count": 8,
   "metadata": {},
   "outputs": [
    {
     "output_type": "execute_result",
     "data": {
      "text/plain": "(10133, 33)"
     },
     "metadata": {},
     "execution_count": 8
    }
   ],
   "source": [
    "num_features = df.select_dtypes(include='number')\n",
    "num_features.shape"
   ]
  },
  {
   "cell_type": "code",
   "execution_count": 9,
   "metadata": {},
   "outputs": [],
   "source": [
    "num_features = num_features.drop(columns=['NU_NOTA_MT'])"
   ]
  },
  {
   "cell_type": "code",
   "execution_count": 10,
   "metadata": {},
   "outputs": [
    {
     "output_type": "execute_result",
     "data": {
      "text/plain": "(10133, 32)"
     },
     "metadata": {},
     "execution_count": 10
    }
   ],
   "source": [
    "num_features.shape"
   ]
  },
  {
   "cell_type": "code",
   "execution_count": 11,
   "metadata": {},
   "outputs": [
    {
     "output_type": "execute_result",
     "data": {
      "text/plain": "CO_UF_RESIDENCIA             0\nNU_IDADE                     0\nTP_COR_RACA                  0\nTP_NACIONALIDADE             0\nTP_ST_CONCLUSAO              0\nTP_ANO_CONCLUIU              0\nTP_ESCOLA                    0\nTP_ENSINO                 6494\nIN_TREINEIRO                 0\nTP_DEPENDENCIA_ADM_ESC    6494\nIN_BAIXA_VISAO               0\nIN_CEGUEIRA                  0\nIN_SURDEZ                    0\nIN_DISLEXIA                  0\nIN_DISCALCULIA               0\nIN_SABATISTA                 0\nIN_GESTANTE                  0\nIN_IDOSO                     0\nTP_PRESENCA_CN               0\nTP_PRESENCA_CH               0\nTP_PRESENCA_LC               0\nNU_NOTA_CN                  36\nNU_NOTA_CH                  36\nNU_NOTA_LC                   0\nTP_LINGUA                    0\nTP_STATUS_REDACAO            0\nNU_NOTA_COMP1                0\nNU_NOTA_COMP2                0\nNU_NOTA_COMP3                0\nNU_NOTA_COMP4                0\nNU_NOTA_COMP5                0\nNU_NOTA_REDACAO              0\ndtype: int64"
     },
     "metadata": {},
     "execution_count": 11
    }
   ],
   "source": [
    "num_features.isna().sum()"
   ]
  },
  {
   "cell_type": "code",
   "execution_count": 12,
   "metadata": {},
   "outputs": [],
   "source": [
    "num_features.drop(columns=['TP_ENSINO', 'TP_DEPENDENCIA_ADM_ESC'], axis=0,inplace=True)"
   ]
  },
  {
   "cell_type": "code",
   "execution_count": 13,
   "metadata": {},
   "outputs": [
    {
     "output_type": "execute_result",
     "data": {
      "text/plain": "CO_UF_RESIDENCIA      0\nNU_IDADE              0\nTP_COR_RACA           0\nTP_NACIONALIDADE      0\nTP_ST_CONCLUSAO       0\nTP_ANO_CONCLUIU       0\nTP_ESCOLA             0\nIN_TREINEIRO          0\nIN_BAIXA_VISAO        0\nIN_CEGUEIRA           0\nIN_SURDEZ             0\nIN_DISLEXIA           0\nIN_DISCALCULIA        0\nIN_SABATISTA          0\nIN_GESTANTE           0\nIN_IDOSO              0\nTP_PRESENCA_CN        0\nTP_PRESENCA_CH        0\nTP_PRESENCA_LC        0\nNU_NOTA_CN           36\nNU_NOTA_CH           36\nNU_NOTA_LC            0\nTP_LINGUA             0\nTP_STATUS_REDACAO     0\nNU_NOTA_COMP1         0\nNU_NOTA_COMP2         0\nNU_NOTA_COMP3         0\nNU_NOTA_COMP4         0\nNU_NOTA_COMP5         0\nNU_NOTA_REDACAO       0\ndtype: int64"
     },
     "metadata": {},
     "execution_count": 13
    }
   ],
   "source": [
    "num_features.isna().sum()"
   ]
  },
  {
   "cell_type": "code",
   "execution_count": 14,
   "metadata": {},
   "outputs": [
    {
     "output_type": "execute_result",
     "data": {
      "text/plain": "['CO_UF_RESIDENCIA',\n 'NU_IDADE',\n 'TP_COR_RACA',\n 'TP_NACIONALIDADE',\n 'TP_ST_CONCLUSAO',\n 'TP_ANO_CONCLUIU',\n 'TP_ESCOLA',\n 'IN_TREINEIRO',\n 'IN_BAIXA_VISAO',\n 'IN_CEGUEIRA',\n 'IN_SURDEZ',\n 'IN_DISLEXIA',\n 'IN_DISCALCULIA',\n 'IN_SABATISTA',\n 'IN_GESTANTE',\n 'IN_IDOSO',\n 'TP_PRESENCA_CN',\n 'TP_PRESENCA_CH',\n 'TP_PRESENCA_LC',\n 'NU_NOTA_CN',\n 'NU_NOTA_CH',\n 'NU_NOTA_LC',\n 'TP_LINGUA',\n 'TP_STATUS_REDACAO',\n 'NU_NOTA_COMP1',\n 'NU_NOTA_COMP2',\n 'NU_NOTA_COMP3',\n 'NU_NOTA_COMP4',\n 'NU_NOTA_COMP5',\n 'NU_NOTA_REDACAO']"
     },
     "metadata": {},
     "execution_count": 14
    }
   ],
   "source": [
    "num_features_list = list(num_features.columns)\n",
    "num_features_list"
   ]
  },
  {
   "cell_type": "code",
   "execution_count": 15,
   "metadata": {},
   "outputs": [
    {
     "output_type": "execute_result",
     "data": {
      "text/plain": "CO_UF_RESIDENCIA     0\nNU_IDADE             0\nTP_COR_RACA          0\nTP_NACIONALIDADE     0\nTP_ST_CONCLUSAO      0\nTP_ANO_CONCLUIU      0\nTP_ESCOLA            0\nIN_TREINEIRO         0\nIN_BAIXA_VISAO       0\nIN_CEGUEIRA          0\nIN_SURDEZ            0\nIN_DISLEXIA          0\nIN_DISCALCULIA       0\nIN_SABATISTA         0\nIN_GESTANTE          0\nIN_IDOSO             0\nTP_PRESENCA_CN       0\nTP_PRESENCA_CH       0\nTP_PRESENCA_LC       0\nNU_NOTA_CN           0\nNU_NOTA_CH           0\nNU_NOTA_LC           0\nTP_LINGUA            0\nTP_STATUS_REDACAO    0\nNU_NOTA_COMP1        0\nNU_NOTA_COMP2        0\nNU_NOTA_COMP3        0\nNU_NOTA_COMP4        0\nNU_NOTA_COMP5        0\nNU_NOTA_REDACAO      0\ndtype: int64"
     },
     "metadata": {},
     "execution_count": 15
    }
   ],
   "source": [
    "df[num_features_list] = df[num_features_list].fillna(-1)\n",
    "df[num_features_list].isna().sum()"
   ]
  },
  {
   "cell_type": "code",
   "execution_count": null,
   "metadata": {},
   "outputs": [],
   "source": []
  },
  {
   "cell_type": "code",
   "execution_count": 16,
   "metadata": {},
   "outputs": [
    {
     "output_type": "execute_result",
     "data": {
      "text/plain": "(10133, 15)"
     },
     "metadata": {},
     "execution_count": 16
    }
   ],
   "source": [
    "cat_features = df.select_dtypes(exclude='number')\n",
    "cat_features.shape"
   ]
  },
  {
   "cell_type": "code",
   "execution_count": 17,
   "metadata": {},
   "outputs": [
    {
     "output_type": "execute_result",
     "data": {
      "text/plain": "NU_INSCRICAO           0\nSG_UF_RESIDENCIA       0\nTP_SEXO                0\nCO_PROVA_CN            0\nCO_PROVA_CH            0\nCO_PROVA_LC            0\nCO_PROVA_MT            0\nQ001                   0\nQ002                   0\nQ006                   0\nQ024                   0\nQ025                   0\nQ026                   0\nQ027                6126\nQ047                   0\ndtype: int64"
     },
     "metadata": {},
     "execution_count": 17
    }
   ],
   "source": [
    "cat_features.isna().sum()"
   ]
  },
  {
   "cell_type": "code",
   "execution_count": 18,
   "metadata": {},
   "outputs": [],
   "source": [
    "cat_features.drop(columns=['Q027', 'NU_INSCRICAO'], inplace=True)"
   ]
  },
  {
   "cell_type": "code",
   "execution_count": 19,
   "metadata": {},
   "outputs": [
    {
     "output_type": "execute_result",
     "data": {
      "text/plain": "SG_UF_RESIDENCIA    0\nTP_SEXO             0\nCO_PROVA_CN         0\nCO_PROVA_CH         0\nCO_PROVA_LC         0\nCO_PROVA_MT         0\nQ001                0\nQ002                0\nQ006                0\nQ024                0\nQ025                0\nQ026                0\nQ047                0\ndtype: int64"
     },
     "metadata": {},
     "execution_count": 19
    }
   ],
   "source": [
    "cat_features.isna().sum()"
   ]
  },
  {
   "cell_type": "code",
   "execution_count": 20,
   "metadata": {},
   "outputs": [],
   "source": [
    "cat_features_list = list(cat_features.columns)"
   ]
  },
  {
   "cell_type": "code",
   "execution_count": 21,
   "metadata": {},
   "outputs": [],
   "source": [
    "# resetando index após as alterações no df\n",
    "df = df.reset_index(drop=True)"
   ]
  },
  {
   "cell_type": "code",
   "execution_count": 22,
   "metadata": {},
   "outputs": [
    {
     "output_type": "execute_result",
     "data": {
      "text/plain": "OneHotEncoder(handle_unknown='ignore', sparse=False)"
     },
     "metadata": {},
     "execution_count": 22
    }
   ],
   "source": [
    "ohe = OneHotEncoder(sparse=False, handle_unknown='ignore')\n",
    "ohe.fit(df[cat_features_list])"
   ]
  },
  {
   "cell_type": "code",
   "execution_count": 23,
   "metadata": {},
   "outputs": [
    {
     "output_type": "execute_result",
     "data": {
      "text/plain": "   SG_UF_RESIDENCIA_AC  SG_UF_RESIDENCIA_AL  SG_UF_RESIDENCIA_AM  \\\n0                  0.0                  0.0                  0.0   \n1                  0.0                  0.0                  0.0   \n2                  0.0                  0.0                  0.0   \n3                  0.0                  0.0                  0.0   \n4                  0.0                  0.0                  0.0   \n\n   SG_UF_RESIDENCIA_AP  SG_UF_RESIDENCIA_BA  SG_UF_RESIDENCIA_CE  \\\n0                  0.0                  0.0                  0.0   \n1                  0.0                  0.0                  1.0   \n2                  0.0                  1.0                  0.0   \n3                  0.0                  0.0                  0.0   \n4                  0.0                  0.0                  0.0   \n\n   SG_UF_RESIDENCIA_DF  SG_UF_RESIDENCIA_ES  SG_UF_RESIDENCIA_GO  \\\n0                  0.0                  0.0                  0.0   \n1                  0.0                  0.0                  0.0   \n2                  0.0                  0.0                  0.0   \n3                  0.0                  0.0                  0.0   \n4                  0.0                  0.0                  0.0   \n\n   SG_UF_RESIDENCIA_MA  ...  Q025_A  Q025_B  Q026_A  Q026_B  Q026_C  Q047_A  \\\n0                  0.0  ...     1.0     0.0     0.0     0.0     1.0     1.0   \n1                  0.0  ...     1.0     0.0     1.0     0.0     0.0     1.0   \n2                  0.0  ...     0.0     1.0     1.0     0.0     0.0     1.0   \n3                  0.0  ...     0.0     1.0     0.0     0.0     1.0     1.0   \n4                  0.0  ...     0.0     1.0     1.0     0.0     0.0     0.0   \n\n   Q047_B  Q047_C  Q047_D  Q047_E  \n0     0.0     0.0     0.0     0.0  \n1     0.0     0.0     0.0     0.0  \n2     0.0     0.0     0.0     0.0  \n3     0.0     0.0     0.0     0.0  \n4     0.0     0.0     1.0     0.0  \n\n[5 rows x 113 columns]",
      "text/html": "<div>\n<style scoped>\n    .dataframe tbody tr th:only-of-type {\n        vertical-align: middle;\n    }\n\n    .dataframe tbody tr th {\n        vertical-align: top;\n    }\n\n    .dataframe thead th {\n        text-align: right;\n    }\n</style>\n<table border=\"1\" class=\"dataframe\">\n  <thead>\n    <tr style=\"text-align: right;\">\n      <th></th>\n      <th>SG_UF_RESIDENCIA_AC</th>\n      <th>SG_UF_RESIDENCIA_AL</th>\n      <th>SG_UF_RESIDENCIA_AM</th>\n      <th>SG_UF_RESIDENCIA_AP</th>\n      <th>SG_UF_RESIDENCIA_BA</th>\n      <th>SG_UF_RESIDENCIA_CE</th>\n      <th>SG_UF_RESIDENCIA_DF</th>\n      <th>SG_UF_RESIDENCIA_ES</th>\n      <th>SG_UF_RESIDENCIA_GO</th>\n      <th>SG_UF_RESIDENCIA_MA</th>\n      <th>...</th>\n      <th>Q025_A</th>\n      <th>Q025_B</th>\n      <th>Q026_A</th>\n      <th>Q026_B</th>\n      <th>Q026_C</th>\n      <th>Q047_A</th>\n      <th>Q047_B</th>\n      <th>Q047_C</th>\n      <th>Q047_D</th>\n      <th>Q047_E</th>\n    </tr>\n  </thead>\n  <tbody>\n    <tr>\n      <th>0</th>\n      <td>0.0</td>\n      <td>0.0</td>\n      <td>0.0</td>\n      <td>0.0</td>\n      <td>0.0</td>\n      <td>0.0</td>\n      <td>0.0</td>\n      <td>0.0</td>\n      <td>0.0</td>\n      <td>0.0</td>\n      <td>...</td>\n      <td>1.0</td>\n      <td>0.0</td>\n      <td>0.0</td>\n      <td>0.0</td>\n      <td>1.0</td>\n      <td>1.0</td>\n      <td>0.0</td>\n      <td>0.0</td>\n      <td>0.0</td>\n      <td>0.0</td>\n    </tr>\n    <tr>\n      <th>1</th>\n      <td>0.0</td>\n      <td>0.0</td>\n      <td>0.0</td>\n      <td>0.0</td>\n      <td>0.0</td>\n      <td>1.0</td>\n      <td>0.0</td>\n      <td>0.0</td>\n      <td>0.0</td>\n      <td>0.0</td>\n      <td>...</td>\n      <td>1.0</td>\n      <td>0.0</td>\n      <td>1.0</td>\n      <td>0.0</td>\n      <td>0.0</td>\n      <td>1.0</td>\n      <td>0.0</td>\n      <td>0.0</td>\n      <td>0.0</td>\n      <td>0.0</td>\n    </tr>\n    <tr>\n      <th>2</th>\n      <td>0.0</td>\n      <td>0.0</td>\n      <td>0.0</td>\n      <td>0.0</td>\n      <td>1.0</td>\n      <td>0.0</td>\n      <td>0.0</td>\n      <td>0.0</td>\n      <td>0.0</td>\n      <td>0.0</td>\n      <td>...</td>\n      <td>0.0</td>\n      <td>1.0</td>\n      <td>1.0</td>\n      <td>0.0</td>\n      <td>0.0</td>\n      <td>1.0</td>\n      <td>0.0</td>\n      <td>0.0</td>\n      <td>0.0</td>\n      <td>0.0</td>\n    </tr>\n    <tr>\n      <th>3</th>\n      <td>0.0</td>\n      <td>0.0</td>\n      <td>0.0</td>\n      <td>0.0</td>\n      <td>0.0</td>\n      <td>0.0</td>\n      <td>0.0</td>\n      <td>0.0</td>\n      <td>0.0</td>\n      <td>0.0</td>\n      <td>...</td>\n      <td>0.0</td>\n      <td>1.0</td>\n      <td>0.0</td>\n      <td>0.0</td>\n      <td>1.0</td>\n      <td>1.0</td>\n      <td>0.0</td>\n      <td>0.0</td>\n      <td>0.0</td>\n      <td>0.0</td>\n    </tr>\n    <tr>\n      <th>4</th>\n      <td>0.0</td>\n      <td>0.0</td>\n      <td>0.0</td>\n      <td>0.0</td>\n      <td>0.0</td>\n      <td>0.0</td>\n      <td>0.0</td>\n      <td>0.0</td>\n      <td>0.0</td>\n      <td>0.0</td>\n      <td>...</td>\n      <td>0.0</td>\n      <td>1.0</td>\n      <td>1.0</td>\n      <td>0.0</td>\n      <td>0.0</td>\n      <td>0.0</td>\n      <td>0.0</td>\n      <td>0.0</td>\n      <td>1.0</td>\n      <td>0.0</td>\n    </tr>\n  </tbody>\n</table>\n<p>5 rows × 113 columns</p>\n</div>"
     },
     "metadata": {},
     "execution_count": 23
    }
   ],
   "source": [
    "df_ohe = pd.DataFrame(ohe.transform(df[cat_features_list]), columns= ohe.get_feature_names(list(cat_features.columns)))\n",
    "df_ohe.head()"
   ]
  },
  {
   "cell_type": "code",
   "execution_count": 24,
   "metadata": {},
   "outputs": [
    {
     "output_type": "execute_result",
     "data": {
      "text/plain": "(10133, 113)"
     },
     "metadata": {},
     "execution_count": 24
    }
   ],
   "source": [
    "df_ohe.shape"
   ]
  },
  {
   "cell_type": "code",
   "execution_count": 25,
   "metadata": {},
   "outputs": [],
   "source": [
    "df_train = pd.concat([df[num_features_list], df_ohe], axis=1, ignore_index=True)"
   ]
  },
  {
   "cell_type": "code",
   "execution_count": 26,
   "metadata": {},
   "outputs": [
    {
     "output_type": "execute_result",
     "data": {
      "text/plain": "(10133, 143)"
     },
     "metadata": {},
     "execution_count": 26
    }
   ],
   "source": [
    "df_train.shape"
   ]
  },
  {
   "cell_type": "code",
   "execution_count": 33,
   "metadata": {
    "tags": []
   },
   "outputs": [
    {
     "output_type": "stream",
     "name": "stderr",
     "text": "[Parallel(n_jobs=1)]: Using backend SequentialBackend with 1 concurrent workers.\n[Parallel(n_jobs=1)]: Done   1 out of   1 | elapsed:    0.0s remaining:    0.0s\nbuilding tree 1 of 100\nbuilding tree 2 of 100\n[Parallel(n_jobs=1)]: Done   2 out of   2 | elapsed:    0.2s remaining:    0.0s\nbuilding tree 3 of 100\nbuilding tree 4 of 100\nbuilding tree 5 of 100\nbuilding tree 6 of 100\nbuilding tree 7 of 100\nbuilding tree 8 of 100\nbuilding tree 9 of 100\nbuilding tree 10 of 100\nbuilding tree 11 of 100\nbuilding tree 12 of 100\nbuilding tree 13 of 100\nbuilding tree 14 of 100\nbuilding tree 15 of 100\nbuilding tree 16 of 100\nbuilding tree 17 of 100\nbuilding tree 18 of 100\nbuilding tree 19 of 100\nbuilding tree 20 of 100\nbuilding tree 21 of 100\nbuilding tree 22 of 100\nbuilding tree 23 of 100\nbuilding tree 24 of 100\nbuilding tree 25 of 100\nbuilding tree 26 of 100\nbuilding tree 27 of 100\nbuilding tree 28 of 100\nbuilding tree 29 of 100\nbuilding tree 30 of 100\nbuilding tree 31 of 100\nbuilding tree 32 of 100\nbuilding tree 33 of 100\nbuilding tree 34 of 100\nbuilding tree 35 of 100\nbuilding tree 36 of 100\nbuilding tree 37 of 100\nbuilding tree 38 of 100\nbuilding tree 39 of 100\nbuilding tree 40 of 100\nbuilding tree 41 of 100\nbuilding tree 42 of 100\nbuilding tree 43 of 100\nbuilding tree 44 of 100\nbuilding tree 45 of 100\nbuilding tree 46 of 100\nbuilding tree 47 of 100\nbuilding tree 48 of 100\nbuilding tree 49 of 100\nbuilding tree 50 of 100\nbuilding tree 51 of 100\nbuilding tree 52 of 100\nbuilding tree 53 of 100\nbuilding tree 54 of 100\nbuilding tree 55 of 100\nbuilding tree 56 of 100\nbuilding tree 57 of 100\nbuilding tree 58 of 100\nbuilding tree 59 of 100\nbuilding tree 60 of 100\nbuilding tree 61 of 100\nbuilding tree 62 of 100\nbuilding tree 63 of 100\nbuilding tree 64 of 100\nbuilding tree 65 of 100\nbuilding tree 66 of 100\nbuilding tree 67 of 100\nbuilding tree 68 of 100\nbuilding tree 69 of 100\nbuilding tree 70 of 100\nbuilding tree 71 of 100\nbuilding tree 72 of 100\nbuilding tree 73 of 100\nbuilding tree 74 of 100\nbuilding tree 75 of 100\nbuilding tree 76 of 100\nbuilding tree 77 of 100\nbuilding tree 78 of 100\nbuilding tree 79 of 100\nbuilding tree 80 of 100\nbuilding tree 81 of 100\nbuilding tree 82 of 100\nbuilding tree 83 of 100\nbuilding tree 84 of 100\nbuilding tree 85 of 100\nbuilding tree 86 of 100\nbuilding tree 87 of 100\nbuilding tree 88 of 100\nbuilding tree 89 of 100\nbuilding tree 90 of 100\nbuilding tree 91 of 100\nbuilding tree 92 of 100\nbuilding tree 93 of 100\nbuilding tree 94 of 100\nbuilding tree 95 of 100\nbuilding tree 96 of 100\nbuilding tree 97 of 100\nbuilding tree 98 of 100\nbuilding tree 99 of 100\nbuilding tree 100 of 100\n[Parallel(n_jobs=1)]: Done 100 out of 100 | elapsed:   13.9s finished\n"
    }
   ],
   "source": [
    "model = RandomForestRegressor(random_state=0, verbose=3, max_depth=12, min_samples_leaf=5)\n",
    "model = model.fit(df_train, df[target])"
   ]
  },
  {
   "cell_type": "code",
   "execution_count": 34,
   "metadata": {},
   "outputs": [],
   "source": [
    "features = df_train.columns.to_list()"
   ]
  },
  {
   "cell_type": "code",
   "execution_count": 35,
   "metadata": {},
   "outputs": [],
   "source": [
    "model_sv = pd.Series([num_features_list, cat_features_list, features, model, ohe], index=['num_features', 'cat_features', 'features', 'model', 'onehot'])"
   ]
  },
  {
   "cell_type": "code",
   "execution_count": 289,
   "metadata": {},
   "outputs": [
    {
     "output_type": "execute_result",
     "data": {
      "text/plain": "['CO_UF_RESIDENCIA',\n 'NU_IDADE',\n 'TP_COR_RACA',\n 'TP_NACIONALIDADE',\n 'TP_ST_CONCLUSAO',\n 'TP_ANO_CONCLUIU',\n 'TP_ESCOLA',\n 'IN_TREINEIRO',\n 'IN_BAIXA_VISAO',\n 'IN_CEGUEIRA',\n 'IN_SURDEZ',\n 'IN_DISLEXIA',\n 'IN_DISCALCULIA',\n 'IN_SABATISTA',\n 'IN_GESTANTE',\n 'IN_IDOSO',\n 'TP_PRESENCA_CN',\n 'TP_PRESENCA_CH',\n 'TP_PRESENCA_LC',\n 'NU_NOTA_CN',\n 'NU_NOTA_CH',\n 'NU_NOTA_LC',\n 'TP_LINGUA',\n 'TP_STATUS_REDACAO',\n 'NU_NOTA_COMP1',\n 'NU_NOTA_COMP2',\n 'NU_NOTA_COMP3',\n 'NU_NOTA_COMP4',\n 'NU_NOTA_COMP5',\n 'NU_NOTA_REDACAO']"
     },
     "metadata": {},
     "execution_count": 289
    }
   ],
   "source": [
    "num_features_list"
   ]
  },
  {
   "cell_type": "code",
   "execution_count": 36,
   "metadata": {},
   "outputs": [],
   "source": [
    "model_sv.to_pickle('model.pkl')"
   ]
  },
  {
   "cell_type": "code",
   "execution_count": null,
   "metadata": {},
   "outputs": [],
   "source": []
  }
 ]
}